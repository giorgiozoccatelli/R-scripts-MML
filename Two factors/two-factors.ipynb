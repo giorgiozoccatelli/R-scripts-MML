{
 "cells": [
  {
   "cell_type": "markdown",
   "id": "81020588-36a6-4283-b6cd-5ba6caee0cc8",
   "metadata": {},
   "source": [
    "# Two qualitative predictors\n",
    "We recycle a textbook example taken from McClave JT., Benson PG. e Sincich T. (2014). *Statistics for\n",
    "Business and Economics*. Pearson Education Limited.\\\n",
    "We want to study the eﬀect on the response (variable *distance*) of 4 diﬀerent brands of golf ball (A,B,C,D)\n",
    "(variable *brand*) and the club type (DRIVER/IRON) (variable *club*). These two features are qualitative predictors, also called factors. A robot player is used.\\\n",
    "\n",
    "Let’s build the data in wide format, i.e. enter the data online. The data shows 4 replications for each pair of brand and club)"
   ]
  },
  {
   "cell_type": "code",
   "execution_count": 1,
   "id": "50ba6d7b-6f7b-41e7-8b7e-7c308d768251",
   "metadata": {},
   "outputs": [],
   "source": [
    "golfwide <- read.table(header=T, text='\n",
    "club A B C D \n",
    "DRIVER 226.4 238.3 240.5 219.8\n",
    "DRIVER 232.6 231.7 246.9 228.7\n",
    "DRIVER 234.0 227.7 240.3 232.9\n",
    "DRIVER 220.7 237.2 244.7 237.6\n",
    "IRON 163.8 184.4 179.0 157.8\n",
    "IRON 179.4 180.6 168.0 161.8\n",
    "IRON 168.6 179.5 165.2 162.1\n",
    "IRON 173.4 186.2 156.5 160.3\n",
    "')"
   ]
  },
  {
   "cell_type": "markdown",
   "id": "cdb928d5-d9dd-4090-a3f9-02676fcb9ffe",
   "metadata": {},
   "source": [
    "To tranform from wide format to long format, we use the library *tidyr()*."
   ]
  },
  {
   "cell_type": "code",
   "execution_count": 2,
   "id": "01504711-b9c4-47a2-b80d-2246f9ece50e",
   "metadata": {},
   "outputs": [
    {
     "data": {
      "text/html": [
       "<table class=\"dataframe\">\n",
       "<caption>A data.frame: 32 × 3</caption>\n",
       "<thead>\n",
       "\t<tr><th scope=col>club</th><th scope=col>brand</th><th scope=col>distance</th></tr>\n",
       "\t<tr><th scope=col>&lt;chr&gt;</th><th scope=col>&lt;chr&gt;</th><th scope=col>&lt;dbl&gt;</th></tr>\n",
       "</thead>\n",
       "<tbody>\n",
       "\t<tr><td>DRIVER</td><td>A</td><td>226.4</td></tr>\n",
       "\t<tr><td>DRIVER</td><td>A</td><td>232.6</td></tr>\n",
       "\t<tr><td>DRIVER</td><td>A</td><td>234.0</td></tr>\n",
       "\t<tr><td>DRIVER</td><td>A</td><td>220.7</td></tr>\n",
       "\t<tr><td>IRON  </td><td>A</td><td>163.8</td></tr>\n",
       "\t<tr><td>IRON  </td><td>A</td><td>179.4</td></tr>\n",
       "\t<tr><td>IRON  </td><td>A</td><td>168.6</td></tr>\n",
       "\t<tr><td>IRON  </td><td>A</td><td>173.4</td></tr>\n",
       "\t<tr><td>DRIVER</td><td>B</td><td>238.3</td></tr>\n",
       "\t<tr><td>DRIVER</td><td>B</td><td>231.7</td></tr>\n",
       "\t<tr><td>DRIVER</td><td>B</td><td>227.7</td></tr>\n",
       "\t<tr><td>DRIVER</td><td>B</td><td>237.2</td></tr>\n",
       "\t<tr><td>IRON  </td><td>B</td><td>184.4</td></tr>\n",
       "\t<tr><td>IRON  </td><td>B</td><td>180.6</td></tr>\n",
       "\t<tr><td>IRON  </td><td>B</td><td>179.5</td></tr>\n",
       "\t<tr><td>IRON  </td><td>B</td><td>186.2</td></tr>\n",
       "\t<tr><td>DRIVER</td><td>C</td><td>240.5</td></tr>\n",
       "\t<tr><td>DRIVER</td><td>C</td><td>246.9</td></tr>\n",
       "\t<tr><td>DRIVER</td><td>C</td><td>240.3</td></tr>\n",
       "\t<tr><td>DRIVER</td><td>C</td><td>244.7</td></tr>\n",
       "\t<tr><td>IRON  </td><td>C</td><td>179.0</td></tr>\n",
       "\t<tr><td>IRON  </td><td>C</td><td>168.0</td></tr>\n",
       "\t<tr><td>IRON  </td><td>C</td><td>165.2</td></tr>\n",
       "\t<tr><td>IRON  </td><td>C</td><td>156.5</td></tr>\n",
       "\t<tr><td>DRIVER</td><td>D</td><td>219.8</td></tr>\n",
       "\t<tr><td>DRIVER</td><td>D</td><td>228.7</td></tr>\n",
       "\t<tr><td>DRIVER</td><td>D</td><td>232.9</td></tr>\n",
       "\t<tr><td>DRIVER</td><td>D</td><td>237.6</td></tr>\n",
       "\t<tr><td>IRON  </td><td>D</td><td>157.8</td></tr>\n",
       "\t<tr><td>IRON  </td><td>D</td><td>161.8</td></tr>\n",
       "\t<tr><td>IRON  </td><td>D</td><td>162.1</td></tr>\n",
       "\t<tr><td>IRON  </td><td>D</td><td>160.3</td></tr>\n",
       "</tbody>\n",
       "</table>\n"
      ],
      "text/latex": [
       "A data.frame: 32 × 3\n",
       "\\begin{tabular}{lll}\n",
       " club & brand & distance\\\\\n",
       " <chr> & <chr> & <dbl>\\\\\n",
       "\\hline\n",
       "\t DRIVER & A & 226.4\\\\\n",
       "\t DRIVER & A & 232.6\\\\\n",
       "\t DRIVER & A & 234.0\\\\\n",
       "\t DRIVER & A & 220.7\\\\\n",
       "\t IRON   & A & 163.8\\\\\n",
       "\t IRON   & A & 179.4\\\\\n",
       "\t IRON   & A & 168.6\\\\\n",
       "\t IRON   & A & 173.4\\\\\n",
       "\t DRIVER & B & 238.3\\\\\n",
       "\t DRIVER & B & 231.7\\\\\n",
       "\t DRIVER & B & 227.7\\\\\n",
       "\t DRIVER & B & 237.2\\\\\n",
       "\t IRON   & B & 184.4\\\\\n",
       "\t IRON   & B & 180.6\\\\\n",
       "\t IRON   & B & 179.5\\\\\n",
       "\t IRON   & B & 186.2\\\\\n",
       "\t DRIVER & C & 240.5\\\\\n",
       "\t DRIVER & C & 246.9\\\\\n",
       "\t DRIVER & C & 240.3\\\\\n",
       "\t DRIVER & C & 244.7\\\\\n",
       "\t IRON   & C & 179.0\\\\\n",
       "\t IRON   & C & 168.0\\\\\n",
       "\t IRON   & C & 165.2\\\\\n",
       "\t IRON   & C & 156.5\\\\\n",
       "\t DRIVER & D & 219.8\\\\\n",
       "\t DRIVER & D & 228.7\\\\\n",
       "\t DRIVER & D & 232.9\\\\\n",
       "\t DRIVER & D & 237.6\\\\\n",
       "\t IRON   & D & 157.8\\\\\n",
       "\t IRON   & D & 161.8\\\\\n",
       "\t IRON   & D & 162.1\\\\\n",
       "\t IRON   & D & 160.3\\\\\n",
       "\\end{tabular}\n"
      ],
      "text/markdown": [
       "\n",
       "A data.frame: 32 × 3\n",
       "\n",
       "| club &lt;chr&gt; | brand &lt;chr&gt; | distance &lt;dbl&gt; |\n",
       "|---|---|---|\n",
       "| DRIVER | A | 226.4 |\n",
       "| DRIVER | A | 232.6 |\n",
       "| DRIVER | A | 234.0 |\n",
       "| DRIVER | A | 220.7 |\n",
       "| IRON   | A | 163.8 |\n",
       "| IRON   | A | 179.4 |\n",
       "| IRON   | A | 168.6 |\n",
       "| IRON   | A | 173.4 |\n",
       "| DRIVER | B | 238.3 |\n",
       "| DRIVER | B | 231.7 |\n",
       "| DRIVER | B | 227.7 |\n",
       "| DRIVER | B | 237.2 |\n",
       "| IRON   | B | 184.4 |\n",
       "| IRON   | B | 180.6 |\n",
       "| IRON   | B | 179.5 |\n",
       "| IRON   | B | 186.2 |\n",
       "| DRIVER | C | 240.5 |\n",
       "| DRIVER | C | 246.9 |\n",
       "| DRIVER | C | 240.3 |\n",
       "| DRIVER | C | 244.7 |\n",
       "| IRON   | C | 179.0 |\n",
       "| IRON   | C | 168.0 |\n",
       "| IRON   | C | 165.2 |\n",
       "| IRON   | C | 156.5 |\n",
       "| DRIVER | D | 219.8 |\n",
       "| DRIVER | D | 228.7 |\n",
       "| DRIVER | D | 232.9 |\n",
       "| DRIVER | D | 237.6 |\n",
       "| IRON   | D | 157.8 |\n",
       "| IRON   | D | 161.8 |\n",
       "| IRON   | D | 162.1 |\n",
       "| IRON   | D | 160.3 |\n",
       "\n"
      ],
      "text/plain": [
       "   club   brand distance\n",
       "1  DRIVER A     226.4   \n",
       "2  DRIVER A     232.6   \n",
       "3  DRIVER A     234.0   \n",
       "4  DRIVER A     220.7   \n",
       "5  IRON   A     163.8   \n",
       "6  IRON   A     179.4   \n",
       "7  IRON   A     168.6   \n",
       "8  IRON   A     173.4   \n",
       "9  DRIVER B     238.3   \n",
       "10 DRIVER B     231.7   \n",
       "11 DRIVER B     227.7   \n",
       "12 DRIVER B     237.2   \n",
       "13 IRON   B     184.4   \n",
       "14 IRON   B     180.6   \n",
       "15 IRON   B     179.5   \n",
       "16 IRON   B     186.2   \n",
       "17 DRIVER C     240.5   \n",
       "18 DRIVER C     246.9   \n",
       "19 DRIVER C     240.3   \n",
       "20 DRIVER C     244.7   \n",
       "21 IRON   C     179.0   \n",
       "22 IRON   C     168.0   \n",
       "23 IRON   C     165.2   \n",
       "24 IRON   C     156.5   \n",
       "25 DRIVER D     219.8   \n",
       "26 DRIVER D     228.7   \n",
       "27 DRIVER D     232.9   \n",
       "28 DRIVER D     237.6   \n",
       "29 IRON   D     157.8   \n",
       "30 IRON   D     161.8   \n",
       "31 IRON   D     162.1   \n",
       "32 IRON   D     160.3   "
      ]
     },
     "metadata": {},
     "output_type": "display_data"
    }
   ],
   "source": [
    "library(tidyr)\n",
    "golflong <- gather(golfwide, brand, distance, A:D)\n",
    "golflong"
   ]
  },
  {
   "cell_type": "markdown",
   "id": "8526d9d9-0c3e-4993-9eca-63a6f57719f6",
   "metadata": {},
   "source": [
    "Let us also use the old-fashioned attach/detach dynamics and study first the eﬀect of *brand* only (a linear model with one factor only)"
   ]
  },
  {
   "cell_type": "code",
   "execution_count": 3,
   "id": "e55d85dd-fda9-4a30-8333-17c181125861",
   "metadata": {},
   "outputs": [
    {
     "data": {
      "text/plain": [
       "\n",
       "Call:\n",
       "lm(formula = distance ~ brand)\n",
       "\n",
       "Residuals:\n",
       "    Min      1Q  Median      3Q     Max \n",
       "-48.638 -31.703  -0.481  32.947  42.475 \n",
       "\n",
       "Coefficients:\n",
       "            Estimate Std. Error t value Pr(>|t|)    \n",
       "(Intercept)  199.863     12.262  16.299 8.04e-16 ***\n",
       "brandB         8.337     17.341   0.481    0.634    \n",
       "brandC         5.275     17.341   0.304    0.763    \n",
       "brandD        -4.737     17.341  -0.273    0.787    \n",
       "---\n",
       "Signif. codes:  0 ‘***’ 0.001 ‘**’ 0.01 ‘*’ 0.05 ‘.’ 0.1 ‘ ’ 1\n",
       "\n",
       "Residual standard error: 34.68 on 28 degrees of freedom\n",
       "Multiple R-squared:  0.02322,\tAdjusted R-squared:  -0.08143 \n",
       "F-statistic: 0.2219 on 3 and 28 DF,  p-value: 0.8804\n"
      ]
     },
     "metadata": {},
     "output_type": "display_data"
    }
   ],
   "source": [
    "attach(golflong)\n",
    "summary(lm(distance ~ brand))"
   ]
  },
  {
   "cell_type": "code",
   "execution_count": 4,
   "id": "12f7252b-a29d-448d-ad7e-2280dc1360fe",
   "metadata": {},
   "outputs": [
    {
     "data": {
      "text/html": [
       "<table class=\"dataframe\">\n",
       "<caption>A anova: 2 × 5</caption>\n",
       "<thead>\n",
       "\t<tr><th></th><th scope=col>Df</th><th scope=col>Sum Sq</th><th scope=col>Mean Sq</th><th scope=col>F value</th><th scope=col>Pr(&gt;F)</th></tr>\n",
       "\t<tr><th></th><th scope=col>&lt;int&gt;</th><th scope=col>&lt;dbl&gt;</th><th scope=col>&lt;dbl&gt;</th><th scope=col>&lt;dbl&gt;</th><th scope=col>&lt;dbl&gt;</th></tr>\n",
       "</thead>\n",
       "<tbody>\n",
       "\t<tr><th scope=row>brand</th><td> 3</td><td>  800.7362</td><td> 266.9121</td><td>0.2218898</td><td>0.880369</td></tr>\n",
       "\t<tr><th scope=row>Residuals</th><td>28</td><td>33681.3125</td><td>1202.9040</td><td>       NA</td><td>      NA</td></tr>\n",
       "</tbody>\n",
       "</table>\n"
      ],
      "text/latex": [
       "A anova: 2 × 5\n",
       "\\begin{tabular}{r|lllll}\n",
       "  & Df & Sum Sq & Mean Sq & F value & Pr(>F)\\\\\n",
       "  & <int> & <dbl> & <dbl> & <dbl> & <dbl>\\\\\n",
       "\\hline\n",
       "\tbrand &  3 &   800.7362 &  266.9121 & 0.2218898 & 0.880369\\\\\n",
       "\tResiduals & 28 & 33681.3125 & 1202.9040 &        NA &       NA\\\\\n",
       "\\end{tabular}\n"
      ],
      "text/markdown": [
       "\n",
       "A anova: 2 × 5\n",
       "\n",
       "| <!--/--> | Df &lt;int&gt; | Sum Sq &lt;dbl&gt; | Mean Sq &lt;dbl&gt; | F value &lt;dbl&gt; | Pr(&gt;F) &lt;dbl&gt; |\n",
       "|---|---|---|---|---|---|\n",
       "| brand |  3 |   800.7362 |  266.9121 | 0.2218898 | 0.880369 |\n",
       "| Residuals | 28 | 33681.3125 | 1202.9040 |        NA |       NA |\n",
       "\n"
      ],
      "text/plain": [
       "          Df Sum Sq     Mean Sq   F value   Pr(>F)  \n",
       "brand      3   800.7362  266.9121 0.2218898 0.880369\n",
       "Residuals 28 33681.3125 1202.9040        NA       NA"
      ]
     },
     "metadata": {},
     "output_type": "display_data"
    }
   ],
   "source": [
    "anova(lm(distance ~ brand))"
   ]
  },
  {
   "cell_type": "code",
   "execution_count": 5,
   "id": "ceb5af2b-4984-49e6-a0e5-0b9303bddf0f",
   "metadata": {},
   "outputs": [
    {
     "data": {
      "text/html": [
       "<table class=\"dataframe\">\n",
       "<caption>A matrix: 32 × 4 of type dbl</caption>\n",
       "<thead>\n",
       "\t<tr><th></th><th scope=col>(Intercept)</th><th scope=col>brandB</th><th scope=col>brandC</th><th scope=col>brandD</th></tr>\n",
       "</thead>\n",
       "<tbody>\n",
       "\t<tr><th scope=row>1</th><td>1</td><td>0</td><td>0</td><td>0</td></tr>\n",
       "\t<tr><th scope=row>2</th><td>1</td><td>0</td><td>0</td><td>0</td></tr>\n",
       "\t<tr><th scope=row>3</th><td>1</td><td>0</td><td>0</td><td>0</td></tr>\n",
       "\t<tr><th scope=row>4</th><td>1</td><td>0</td><td>0</td><td>0</td></tr>\n",
       "\t<tr><th scope=row>5</th><td>1</td><td>0</td><td>0</td><td>0</td></tr>\n",
       "\t<tr><th scope=row>6</th><td>1</td><td>0</td><td>0</td><td>0</td></tr>\n",
       "\t<tr><th scope=row>7</th><td>1</td><td>0</td><td>0</td><td>0</td></tr>\n",
       "\t<tr><th scope=row>8</th><td>1</td><td>0</td><td>0</td><td>0</td></tr>\n",
       "\t<tr><th scope=row>9</th><td>1</td><td>1</td><td>0</td><td>0</td></tr>\n",
       "\t<tr><th scope=row>10</th><td>1</td><td>1</td><td>0</td><td>0</td></tr>\n",
       "\t<tr><th scope=row>11</th><td>1</td><td>1</td><td>0</td><td>0</td></tr>\n",
       "\t<tr><th scope=row>12</th><td>1</td><td>1</td><td>0</td><td>0</td></tr>\n",
       "\t<tr><th scope=row>13</th><td>1</td><td>1</td><td>0</td><td>0</td></tr>\n",
       "\t<tr><th scope=row>14</th><td>1</td><td>1</td><td>0</td><td>0</td></tr>\n",
       "\t<tr><th scope=row>15</th><td>1</td><td>1</td><td>0</td><td>0</td></tr>\n",
       "\t<tr><th scope=row>16</th><td>1</td><td>1</td><td>0</td><td>0</td></tr>\n",
       "\t<tr><th scope=row>17</th><td>1</td><td>0</td><td>1</td><td>0</td></tr>\n",
       "\t<tr><th scope=row>18</th><td>1</td><td>0</td><td>1</td><td>0</td></tr>\n",
       "\t<tr><th scope=row>19</th><td>1</td><td>0</td><td>1</td><td>0</td></tr>\n",
       "\t<tr><th scope=row>20</th><td>1</td><td>0</td><td>1</td><td>0</td></tr>\n",
       "\t<tr><th scope=row>21</th><td>1</td><td>0</td><td>1</td><td>0</td></tr>\n",
       "\t<tr><th scope=row>22</th><td>1</td><td>0</td><td>1</td><td>0</td></tr>\n",
       "\t<tr><th scope=row>23</th><td>1</td><td>0</td><td>1</td><td>0</td></tr>\n",
       "\t<tr><th scope=row>24</th><td>1</td><td>0</td><td>1</td><td>0</td></tr>\n",
       "\t<tr><th scope=row>25</th><td>1</td><td>0</td><td>0</td><td>1</td></tr>\n",
       "\t<tr><th scope=row>26</th><td>1</td><td>0</td><td>0</td><td>1</td></tr>\n",
       "\t<tr><th scope=row>27</th><td>1</td><td>0</td><td>0</td><td>1</td></tr>\n",
       "\t<tr><th scope=row>28</th><td>1</td><td>0</td><td>0</td><td>1</td></tr>\n",
       "\t<tr><th scope=row>29</th><td>1</td><td>0</td><td>0</td><td>1</td></tr>\n",
       "\t<tr><th scope=row>30</th><td>1</td><td>0</td><td>0</td><td>1</td></tr>\n",
       "\t<tr><th scope=row>31</th><td>1</td><td>0</td><td>0</td><td>1</td></tr>\n",
       "\t<tr><th scope=row>32</th><td>1</td><td>0</td><td>0</td><td>1</td></tr>\n",
       "</tbody>\n",
       "</table>\n"
      ],
      "text/latex": [
       "A matrix: 32 × 4 of type dbl\n",
       "\\begin{tabular}{r|llll}\n",
       "  & (Intercept) & brandB & brandC & brandD\\\\\n",
       "\\hline\n",
       "\t1 & 1 & 0 & 0 & 0\\\\\n",
       "\t2 & 1 & 0 & 0 & 0\\\\\n",
       "\t3 & 1 & 0 & 0 & 0\\\\\n",
       "\t4 & 1 & 0 & 0 & 0\\\\\n",
       "\t5 & 1 & 0 & 0 & 0\\\\\n",
       "\t6 & 1 & 0 & 0 & 0\\\\\n",
       "\t7 & 1 & 0 & 0 & 0\\\\\n",
       "\t8 & 1 & 0 & 0 & 0\\\\\n",
       "\t9 & 1 & 1 & 0 & 0\\\\\n",
       "\t10 & 1 & 1 & 0 & 0\\\\\n",
       "\t11 & 1 & 1 & 0 & 0\\\\\n",
       "\t12 & 1 & 1 & 0 & 0\\\\\n",
       "\t13 & 1 & 1 & 0 & 0\\\\\n",
       "\t14 & 1 & 1 & 0 & 0\\\\\n",
       "\t15 & 1 & 1 & 0 & 0\\\\\n",
       "\t16 & 1 & 1 & 0 & 0\\\\\n",
       "\t17 & 1 & 0 & 1 & 0\\\\\n",
       "\t18 & 1 & 0 & 1 & 0\\\\\n",
       "\t19 & 1 & 0 & 1 & 0\\\\\n",
       "\t20 & 1 & 0 & 1 & 0\\\\\n",
       "\t21 & 1 & 0 & 1 & 0\\\\\n",
       "\t22 & 1 & 0 & 1 & 0\\\\\n",
       "\t23 & 1 & 0 & 1 & 0\\\\\n",
       "\t24 & 1 & 0 & 1 & 0\\\\\n",
       "\t25 & 1 & 0 & 0 & 1\\\\\n",
       "\t26 & 1 & 0 & 0 & 1\\\\\n",
       "\t27 & 1 & 0 & 0 & 1\\\\\n",
       "\t28 & 1 & 0 & 0 & 1\\\\\n",
       "\t29 & 1 & 0 & 0 & 1\\\\\n",
       "\t30 & 1 & 0 & 0 & 1\\\\\n",
       "\t31 & 1 & 0 & 0 & 1\\\\\n",
       "\t32 & 1 & 0 & 0 & 1\\\\\n",
       "\\end{tabular}\n"
      ],
      "text/markdown": [
       "\n",
       "A matrix: 32 × 4 of type dbl\n",
       "\n",
       "| <!--/--> | (Intercept) | brandB | brandC | brandD |\n",
       "|---|---|---|---|---|\n",
       "| 1 | 1 | 0 | 0 | 0 |\n",
       "| 2 | 1 | 0 | 0 | 0 |\n",
       "| 3 | 1 | 0 | 0 | 0 |\n",
       "| 4 | 1 | 0 | 0 | 0 |\n",
       "| 5 | 1 | 0 | 0 | 0 |\n",
       "| 6 | 1 | 0 | 0 | 0 |\n",
       "| 7 | 1 | 0 | 0 | 0 |\n",
       "| 8 | 1 | 0 | 0 | 0 |\n",
       "| 9 | 1 | 1 | 0 | 0 |\n",
       "| 10 | 1 | 1 | 0 | 0 |\n",
       "| 11 | 1 | 1 | 0 | 0 |\n",
       "| 12 | 1 | 1 | 0 | 0 |\n",
       "| 13 | 1 | 1 | 0 | 0 |\n",
       "| 14 | 1 | 1 | 0 | 0 |\n",
       "| 15 | 1 | 1 | 0 | 0 |\n",
       "| 16 | 1 | 1 | 0 | 0 |\n",
       "| 17 | 1 | 0 | 1 | 0 |\n",
       "| 18 | 1 | 0 | 1 | 0 |\n",
       "| 19 | 1 | 0 | 1 | 0 |\n",
       "| 20 | 1 | 0 | 1 | 0 |\n",
       "| 21 | 1 | 0 | 1 | 0 |\n",
       "| 22 | 1 | 0 | 1 | 0 |\n",
       "| 23 | 1 | 0 | 1 | 0 |\n",
       "| 24 | 1 | 0 | 1 | 0 |\n",
       "| 25 | 1 | 0 | 0 | 1 |\n",
       "| 26 | 1 | 0 | 0 | 1 |\n",
       "| 27 | 1 | 0 | 0 | 1 |\n",
       "| 28 | 1 | 0 | 0 | 1 |\n",
       "| 29 | 1 | 0 | 0 | 1 |\n",
       "| 30 | 1 | 0 | 0 | 1 |\n",
       "| 31 | 1 | 0 | 0 | 1 |\n",
       "| 32 | 1 | 0 | 0 | 1 |\n",
       "\n"
      ],
      "text/plain": [
       "   (Intercept) brandB brandC brandD\n",
       "1  1           0      0      0     \n",
       "2  1           0      0      0     \n",
       "3  1           0      0      0     \n",
       "4  1           0      0      0     \n",
       "5  1           0      0      0     \n",
       "6  1           0      0      0     \n",
       "7  1           0      0      0     \n",
       "8  1           0      0      0     \n",
       "9  1           1      0      0     \n",
       "10 1           1      0      0     \n",
       "11 1           1      0      0     \n",
       "12 1           1      0      0     \n",
       "13 1           1      0      0     \n",
       "14 1           1      0      0     \n",
       "15 1           1      0      0     \n",
       "16 1           1      0      0     \n",
       "17 1           0      1      0     \n",
       "18 1           0      1      0     \n",
       "19 1           0      1      0     \n",
       "20 1           0      1      0     \n",
       "21 1           0      1      0     \n",
       "22 1           0      1      0     \n",
       "23 1           0      1      0     \n",
       "24 1           0      1      0     \n",
       "25 1           0      0      1     \n",
       "26 1           0      0      1     \n",
       "27 1           0      0      1     \n",
       "28 1           0      0      1     \n",
       "29 1           0      0      1     \n",
       "30 1           0      0      1     \n",
       "31 1           0      0      1     \n",
       "32 1           0      0      1     "
      ]
     },
     "metadata": {},
     "output_type": "display_data"
    }
   ],
   "source": [
    "model.matrix(lm(distance~brand)) ### this is the design matrix"
   ]
  },
  {
   "cell_type": "markdown",
   "id": "28e71a6f-fadb-4c17-a8ac-7df2b03d84a4",
   "metadata": {},
   "source": [
    "To visualize dta, we can use boxplots or more specialized graphics for qualitative predictors (for the latter, we have to define the predictors explicitely as factor objects in R). Recall that prettier graphics can always be produced using *ggplot2()*."
   ]
  },
  {
   "cell_type": "code",
   "execution_count": 6,
   "id": "b39466c2-ade4-4a4a-ac6c-9d36b2c92406",
   "metadata": {},
   "outputs": [
    {
     "data": {
      "image/png": "[encoded data removed]",
      "text/plain": [
       "plot without title"
      ]
     },
     "metadata": {
      "image/png": {
       "height": 420,
       "width": 420
      }
     },
     "output_type": "display_data"
    }
   ],
   "source": [
    "boxplot(distance ~ brand)"
   ]
  },
  {
   "cell_type": "code",
   "execution_count": 7,
   "id": "7c3e8f7c-e370-4081-91f1-890c18ebefb0",
   "metadata": {},
   "outputs": [
    {
     "data": {
      "image/png": "[encoded data removed]",
      "text/plain": [
       "plot without title"
      ]
     },
     "metadata": {
      "image/png": {
       "height": 420,
       "width": 420
      }
     },
     "output_type": "display_data"
    }
   ],
   "source": [
    "brand <- as.factor(brand)\n",
    "club <- as.factor(club)\n",
    "plot.design(distance ~ brand)"
   ]
  },
  {
   "cell_type": "markdown",
   "id": "e8ecf203-ba2b-4032-b396-bb52fbb07475",
   "metadata": {},
   "source": [
    "## Additive and non-additive models\n",
    "Now let us add the second factor *club* and build a ‘small’ additive model ..."
   ]
  },
  {
   "cell_type": "code",
   "execution_count": 9,
   "id": "0c803ebd-a154-481d-8ad1-0e5ce2977330",
   "metadata": {},
   "outputs": [
    {
     "data": {
      "image/png": "[encoded data removed]",
      "text/plain": [
       "plot without title"
      ]
     },
     "metadata": {
      "image/png": {
       "height": 420,
       "width": 420
      }
     },
     "output_type": "display_data"
    }
   ],
   "source": [
    "plot.design(distance ~ brand + club)"
   ]
  },
  {
   "cell_type": "code",
   "execution_count": 10,
   "id": "ee01191f-c1e1-463c-8572-0dba4e8e1282",
   "metadata": {},
   "outputs": [
    {
     "data": {
      "text/plain": [
       "\n",
       "Call:\n",
       "lm(formula = distance ~ brand + club)\n",
       "\n",
       "Residuals:\n",
       "     Min       1Q   Median       3Q      Max \n",
       "-16.9688  -5.2156   0.7375   5.2875  11.2063 \n",
       "\n",
       "Coefficients:\n",
       "            Estimate Std. Error t value Pr(>|t|)    \n",
       "(Intercept)  231.531      3.032  76.371   <2e-16 ***\n",
       "brandB         8.337      3.835   2.174   0.0386 *  \n",
       "brandC         5.275      3.835   1.376   0.1803    \n",
       "brandD        -4.737      3.835  -1.235   0.2273    \n",
       "clubIRON     -63.337      2.712 -23.358   <2e-16 ***\n",
       "---\n",
       "Signif. codes:  0 ‘***’ 0.001 ‘**’ 0.01 ‘*’ 0.05 ‘.’ 0.1 ‘ ’ 1\n",
       "\n",
       "Residual standard error: 7.67 on 27 degrees of freedom\n",
       "Multiple R-squared:  0.9539,\tAdjusted R-squared:  0.9471 \n",
       "F-statistic: 139.8 on 4 and 27 DF,  p-value: < 2.2e-16\n"
      ]
     },
     "metadata": {},
     "output_type": "display_data"
    }
   ],
   "source": [
    "small <- lm(distance ~ brand + club)\n",
    "summary(small)"
   ]
  },
  {
   "cell_type": "code",
   "execution_count": 11,
   "id": "fb043339-64c9-4070-a602-dccb8c90ad5f",
   "metadata": {},
   "outputs": [
    {
     "data": {
      "text/html": [
       "<table class=\"dataframe\">\n",
       "<caption>A anova: 3 × 5</caption>\n",
       "<thead>\n",
       "\t<tr><th></th><th scope=col>Df</th><th scope=col>Sum Sq</th><th scope=col>Mean Sq</th><th scope=col>F value</th><th scope=col>Pr(&gt;F)</th></tr>\n",
       "\t<tr><th></th><th scope=col>&lt;int&gt;</th><th scope=col>&lt;dbl&gt;</th><th scope=col>&lt;dbl&gt;</th><th scope=col>&lt;dbl&gt;</th><th scope=col>&lt;dbl&gt;</th></tr>\n",
       "</thead>\n",
       "<tbody>\n",
       "\t<tr><th scope=row>brand</th><td> 3</td><td>  800.7362</td><td>  266.91208</td><td>  4.537603</td><td>1.060967e-02</td></tr>\n",
       "\t<tr><th scope=row>club</th><td> 1</td><td>32093.1112</td><td>32093.11125</td><td>545.594586</td><td>1.925136e-19</td></tr>\n",
       "\t<tr><th scope=row>Residuals</th><td>27</td><td> 1588.2013</td><td>   58.82227</td><td>        NA</td><td>          NA</td></tr>\n",
       "</tbody>\n",
       "</table>\n"
      ],
      "text/latex": [
       "A anova: 3 × 5\n",
       "\\begin{tabular}{r|lllll}\n",
       "  & Df & Sum Sq & Mean Sq & F value & Pr(>F)\\\\\n",
       "  & <int> & <dbl> & <dbl> & <dbl> & <dbl>\\\\\n",
       "\\hline\n",
       "\tbrand &  3 &   800.7362 &   266.91208 &   4.537603 & 1.060967e-02\\\\\n",
       "\tclub &  1 & 32093.1112 & 32093.11125 & 545.594586 & 1.925136e-19\\\\\n",
       "\tResiduals & 27 &  1588.2013 &    58.82227 &         NA &           NA\\\\\n",
       "\\end{tabular}\n"
      ],
      "text/markdown": [
       "\n",
       "A anova: 3 × 5\n",
       "\n",
       "| <!--/--> | Df &lt;int&gt; | Sum Sq &lt;dbl&gt; | Mean Sq &lt;dbl&gt; | F value &lt;dbl&gt; | Pr(&gt;F) &lt;dbl&gt; |\n",
       "|---|---|---|---|---|---|\n",
       "| brand |  3 |   800.7362 |   266.91208 |   4.537603 | 1.060967e-02 |\n",
       "| club |  1 | 32093.1112 | 32093.11125 | 545.594586 | 1.925136e-19 |\n",
       "| Residuals | 27 |  1588.2013 |    58.82227 |         NA |           NA |\n",
       "\n"
      ],
      "text/plain": [
       "          Df Sum Sq     Mean Sq     F value    Pr(>F)      \n",
       "brand      3   800.7362   266.91208   4.537603 1.060967e-02\n",
       "club       1 32093.1112 32093.11125 545.594586 1.925136e-19\n",
       "Residuals 27  1588.2013    58.82227         NA           NA"
      ]
     },
     "metadata": {},
     "output_type": "display_data"
    }
   ],
   "source": [
    "anova(small)"
   ]
  },
  {
   "cell_type": "code",
   "execution_count": 12,
   "id": "443cb26e-e9bd-4a31-bd09-0b64b6a2dc0e",
   "metadata": {},
   "outputs": [
    {
     "data": {
      "text/html": [
       "<table class=\"dataframe\">\n",
       "<caption>A matrix: 32 × 5 of type dbl</caption>\n",
       "<thead>\n",
       "\t<tr><th></th><th scope=col>(Intercept)</th><th scope=col>brandB</th><th scope=col>brandC</th><th scope=col>brandD</th><th scope=col>clubIRON</th></tr>\n",
       "</thead>\n",
       "<tbody>\n",
       "\t<tr><th scope=row>1</th><td>1</td><td>0</td><td>0</td><td>0</td><td>0</td></tr>\n",
       "\t<tr><th scope=row>2</th><td>1</td><td>0</td><td>0</td><td>0</td><td>0</td></tr>\n",
       "\t<tr><th scope=row>3</th><td>1</td><td>0</td><td>0</td><td>0</td><td>0</td></tr>\n",
       "\t<tr><th scope=row>4</th><td>1</td><td>0</td><td>0</td><td>0</td><td>0</td></tr>\n",
       "\t<tr><th scope=row>5</th><td>1</td><td>0</td><td>0</td><td>0</td><td>1</td></tr>\n",
       "\t<tr><th scope=row>6</th><td>1</td><td>0</td><td>0</td><td>0</td><td>1</td></tr>\n",
       "\t<tr><th scope=row>7</th><td>1</td><td>0</td><td>0</td><td>0</td><td>1</td></tr>\n",
       "\t<tr><th scope=row>8</th><td>1</td><td>0</td><td>0</td><td>0</td><td>1</td></tr>\n",
       "\t<tr><th scope=row>9</th><td>1</td><td>1</td><td>0</td><td>0</td><td>0</td></tr>\n",
       "\t<tr><th scope=row>10</th><td>1</td><td>1</td><td>0</td><td>0</td><td>0</td></tr>\n",
       "\t<tr><th scope=row>11</th><td>1</td><td>1</td><td>0</td><td>0</td><td>0</td></tr>\n",
       "\t<tr><th scope=row>12</th><td>1</td><td>1</td><td>0</td><td>0</td><td>0</td></tr>\n",
       "\t<tr><th scope=row>13</th><td>1</td><td>1</td><td>0</td><td>0</td><td>1</td></tr>\n",
       "\t<tr><th scope=row>14</th><td>1</td><td>1</td><td>0</td><td>0</td><td>1</td></tr>\n",
       "\t<tr><th scope=row>15</th><td>1</td><td>1</td><td>0</td><td>0</td><td>1</td></tr>\n",
       "\t<tr><th scope=row>16</th><td>1</td><td>1</td><td>0</td><td>0</td><td>1</td></tr>\n",
       "\t<tr><th scope=row>17</th><td>1</td><td>0</td><td>1</td><td>0</td><td>0</td></tr>\n",
       "\t<tr><th scope=row>18</th><td>1</td><td>0</td><td>1</td><td>0</td><td>0</td></tr>\n",
       "\t<tr><th scope=row>19</th><td>1</td><td>0</td><td>1</td><td>0</td><td>0</td></tr>\n",
       "\t<tr><th scope=row>20</th><td>1</td><td>0</td><td>1</td><td>0</td><td>0</td></tr>\n",
       "\t<tr><th scope=row>21</th><td>1</td><td>0</td><td>1</td><td>0</td><td>1</td></tr>\n",
       "\t<tr><th scope=row>22</th><td>1</td><td>0</td><td>1</td><td>0</td><td>1</td></tr>\n",
       "\t<tr><th scope=row>23</th><td>1</td><td>0</td><td>1</td><td>0</td><td>1</td></tr>\n",
       "\t<tr><th scope=row>24</th><td>1</td><td>0</td><td>1</td><td>0</td><td>1</td></tr>\n",
       "\t<tr><th scope=row>25</th><td>1</td><td>0</td><td>0</td><td>1</td><td>0</td></tr>\n",
       "\t<tr><th scope=row>26</th><td>1</td><td>0</td><td>0</td><td>1</td><td>0</td></tr>\n",
       "\t<tr><th scope=row>27</th><td>1</td><td>0</td><td>0</td><td>1</td><td>0</td></tr>\n",
       "\t<tr><th scope=row>28</th><td>1</td><td>0</td><td>0</td><td>1</td><td>0</td></tr>\n",
       "\t<tr><th scope=row>29</th><td>1</td><td>0</td><td>0</td><td>1</td><td>1</td></tr>\n",
       "\t<tr><th scope=row>30</th><td>1</td><td>0</td><td>0</td><td>1</td><td>1</td></tr>\n",
       "\t<tr><th scope=row>31</th><td>1</td><td>0</td><td>0</td><td>1</td><td>1</td></tr>\n",
       "\t<tr><th scope=row>32</th><td>1</td><td>0</td><td>0</td><td>1</td><td>1</td></tr>\n",
       "</tbody>\n",
       "</table>\n"
      ],
      "text/latex": [
       "A matrix: 32 × 5 of type dbl\n",
       "\\begin{tabular}{r|lllll}\n",
       "  & (Intercept) & brandB & brandC & brandD & clubIRON\\\\\n",
       "\\hline\n",
       "\t1 & 1 & 0 & 0 & 0 & 0\\\\\n",
       "\t2 & 1 & 0 & 0 & 0 & 0\\\\\n",
       "\t3 & 1 & 0 & 0 & 0 & 0\\\\\n",
       "\t4 & 1 & 0 & 0 & 0 & 0\\\\\n",
       "\t5 & 1 & 0 & 0 & 0 & 1\\\\\n",
       "\t6 & 1 & 0 & 0 & 0 & 1\\\\\n",
       "\t7 & 1 & 0 & 0 & 0 & 1\\\\\n",
       "\t8 & 1 & 0 & 0 & 0 & 1\\\\\n",
       "\t9 & 1 & 1 & 0 & 0 & 0\\\\\n",
       "\t10 & 1 & 1 & 0 & 0 & 0\\\\\n",
       "\t11 & 1 & 1 & 0 & 0 & 0\\\\\n",
       "\t12 & 1 & 1 & 0 & 0 & 0\\\\\n",
       "\t13 & 1 & 1 & 0 & 0 & 1\\\\\n",
       "\t14 & 1 & 1 & 0 & 0 & 1\\\\\n",
       "\t15 & 1 & 1 & 0 & 0 & 1\\\\\n",
       "\t16 & 1 & 1 & 0 & 0 & 1\\\\\n",
       "\t17 & 1 & 0 & 1 & 0 & 0\\\\\n",
       "\t18 & 1 & 0 & 1 & 0 & 0\\\\\n",
       "\t19 & 1 & 0 & 1 & 0 & 0\\\\\n",
       "\t20 & 1 & 0 & 1 & 0 & 0\\\\\n",
       "\t21 & 1 & 0 & 1 & 0 & 1\\\\\n",
       "\t22 & 1 & 0 & 1 & 0 & 1\\\\\n",
       "\t23 & 1 & 0 & 1 & 0 & 1\\\\\n",
       "\t24 & 1 & 0 & 1 & 0 & 1\\\\\n",
       "\t25 & 1 & 0 & 0 & 1 & 0\\\\\n",
       "\t26 & 1 & 0 & 0 & 1 & 0\\\\\n",
       "\t27 & 1 & 0 & 0 & 1 & 0\\\\\n",
       "\t28 & 1 & 0 & 0 & 1 & 0\\\\\n",
       "\t29 & 1 & 0 & 0 & 1 & 1\\\\\n",
       "\t30 & 1 & 0 & 0 & 1 & 1\\\\\n",
       "\t31 & 1 & 0 & 0 & 1 & 1\\\\\n",
       "\t32 & 1 & 0 & 0 & 1 & 1\\\\\n",
       "\\end{tabular}\n"
      ],
      "text/markdown": [
       "\n",
       "A matrix: 32 × 5 of type dbl\n",
       "\n",
       "| <!--/--> | (Intercept) | brandB | brandC | brandD | clubIRON |\n",
       "|---|---|---|---|---|---|\n",
       "| 1 | 1 | 0 | 0 | 0 | 0 |\n",
       "| 2 | 1 | 0 | 0 | 0 | 0 |\n",
       "| 3 | 1 | 0 | 0 | 0 | 0 |\n",
       "| 4 | 1 | 0 | 0 | 0 | 0 |\n",
       "| 5 | 1 | 0 | 0 | 0 | 1 |\n",
       "| 6 | 1 | 0 | 0 | 0 | 1 |\n",
       "| 7 | 1 | 0 | 0 | 0 | 1 |\n",
       "| 8 | 1 | 0 | 0 | 0 | 1 |\n",
       "| 9 | 1 | 1 | 0 | 0 | 0 |\n",
       "| 10 | 1 | 1 | 0 | 0 | 0 |\n",
       "| 11 | 1 | 1 | 0 | 0 | 0 |\n",
       "| 12 | 1 | 1 | 0 | 0 | 0 |\n",
       "| 13 | 1 | 1 | 0 | 0 | 1 |\n",
       "| 14 | 1 | 1 | 0 | 0 | 1 |\n",
       "| 15 | 1 | 1 | 0 | 0 | 1 |\n",
       "| 16 | 1 | 1 | 0 | 0 | 1 |\n",
       "| 17 | 1 | 0 | 1 | 0 | 0 |\n",
       "| 18 | 1 | 0 | 1 | 0 | 0 |\n",
       "| 19 | 1 | 0 | 1 | 0 | 0 |\n",
       "| 20 | 1 | 0 | 1 | 0 | 0 |\n",
       "| 21 | 1 | 0 | 1 | 0 | 1 |\n",
       "| 22 | 1 | 0 | 1 | 0 | 1 |\n",
       "| 23 | 1 | 0 | 1 | 0 | 1 |\n",
       "| 24 | 1 | 0 | 1 | 0 | 1 |\n",
       "| 25 | 1 | 0 | 0 | 1 | 0 |\n",
       "| 26 | 1 | 0 | 0 | 1 | 0 |\n",
       "| 27 | 1 | 0 | 0 | 1 | 0 |\n",
       "| 28 | 1 | 0 | 0 | 1 | 0 |\n",
       "| 29 | 1 | 0 | 0 | 1 | 1 |\n",
       "| 30 | 1 | 0 | 0 | 1 | 1 |\n",
       "| 31 | 1 | 0 | 0 | 1 | 1 |\n",
       "| 32 | 1 | 0 | 0 | 1 | 1 |\n",
       "\n"
      ],
      "text/plain": [
       "   (Intercept) brandB brandC brandD clubIRON\n",
       "1  1           0      0      0      0       \n",
       "2  1           0      0      0      0       \n",
       "3  1           0      0      0      0       \n",
       "4  1           0      0      0      0       \n",
       "5  1           0      0      0      1       \n",
       "6  1           0      0      0      1       \n",
       "7  1           0      0      0      1       \n",
       "8  1           0      0      0      1       \n",
       "9  1           1      0      0      0       \n",
       "10 1           1      0      0      0       \n",
       "11 1           1      0      0      0       \n",
       "12 1           1      0      0      0       \n",
       "13 1           1      0      0      1       \n",
       "14 1           1      0      0      1       \n",
       "15 1           1      0      0      1       \n",
       "16 1           1      0      0      1       \n",
       "17 1           0      1      0      0       \n",
       "18 1           0      1      0      0       \n",
       "19 1           0      1      0      0       \n",
       "20 1           0      1      0      0       \n",
       "21 1           0      1      0      1       \n",
       "22 1           0      1      0      1       \n",
       "23 1           0      1      0      1       \n",
       "24 1           0      1      0      1       \n",
       "25 1           0      0      1      0       \n",
       "26 1           0      0      1      0       \n",
       "27 1           0      0      1      0       \n",
       "28 1           0      0      1      0       \n",
       "29 1           0      0      1      1       \n",
       "30 1           0      0      1      1       \n",
       "31 1           0      0      1      1       \n",
       "32 1           0      0      1      1       "
      ]
     },
     "metadata": {},
     "output_type": "display_data"
    }
   ],
   "source": [
    "model.matrix(small)"
   ]
  },
  {
   "cell_type": "markdown",
   "id": "91fb18c3-d108-435b-a01e-f003ca9e5e70",
   "metadata": {},
   "source": [
    "... and a larger model with interaction. An interaction plot suggests interactions may be significant, but we\n",
    "have to test for it since interaction plots are subject to sampling variation."
   ]
  },
  {
   "cell_type": "code",
   "execution_count": 13,
   "id": "e2832eb0-8b5a-4c7d-b73c-fd419d12a5c5",
   "metadata": {},
   "outputs": [
    {
     "data": {
      "image/png": "[encoded data removed]",
      "text/plain": [
       "plot without title"
      ]
     },
     "metadata": {
      "image/png": {
       "height": 420,
       "width": 420
      }
     },
     "output_type": "display_data"
    }
   ],
   "source": [
    "#plot.design(distance ~ brand*club)\n",
    "interaction.plot(brand, club, distance)"
   ]
  },
  {
   "cell_type": "code",
   "execution_count": 14,
   "id": "41202c64-4c44-4c6e-b35e-f159f50abcfe",
   "metadata": {},
   "outputs": [
    {
     "data": {
      "text/plain": [
       "\n",
       "Call:\n",
       "lm(formula = distance ~ brand * club)\n",
       "\n",
       "Residuals:\n",
       "     Min       1Q   Median       3Q      Max \n",
       "-10.6750  -2.7000   0.3125   3.4875  11.8250 \n",
       "\n",
       "Coefficients:\n",
       "                Estimate Std. Error t value Pr(>|t|)    \n",
       "(Intercept)      228.425      2.927  78.051  < 2e-16 ***\n",
       "brandB             5.300      4.139   1.281  0.21259    \n",
       "brandC            14.675      4.139   3.546  0.00165 ** \n",
       "brandD             1.325      4.139   0.320  0.75163    \n",
       "clubIRON         -57.125      4.139 -13.802 6.55e-13 ***\n",
       "brandB:clubIRON    6.075      5.853   1.038  0.30966    \n",
       "brandC:clubIRON  -18.800      5.853  -3.212  0.00373 ** \n",
       "brandD:clubIRON  -12.125      5.853  -2.072  0.04923 *  \n",
       "---\n",
       "Signif. codes:  0 ‘***’ 0.001 ‘**’ 0.01 ‘*’ 0.05 ‘.’ 0.1 ‘ ’ 1\n",
       "\n",
       "Residual standard error: 5.853 on 24 degrees of freedom\n",
       "Multiple R-squared:  0.9762,\tAdjusted R-squared:  0.9692 \n",
       "F-statistic: 140.4 on 7 and 24 DF,  p-value: < 2.2e-16\n"
      ]
     },
     "metadata": {},
     "output_type": "display_data"
    }
   ],
   "source": [
    "large <- lm(distance ~ brand*club)\n",
    "summary(large)"
   ]
  },
  {
   "cell_type": "code",
   "execution_count": 15,
   "id": "7aa159b0-a119-4bdd-86c3-85537803b866",
   "metadata": {},
   "outputs": [
    {
     "data": {
      "text/html": [
       "<table class=\"dataframe\">\n",
       "<caption>A matrix: 32 × 8 of type dbl</caption>\n",
       "<thead>\n",
       "\t<tr><th></th><th scope=col>(Intercept)</th><th scope=col>brandB</th><th scope=col>brandC</th><th scope=col>brandD</th><th scope=col>clubIRON</th><th scope=col>brandB:clubIRON</th><th scope=col>brandC:clubIRON</th><th scope=col>brandD:clubIRON</th></tr>\n",
       "</thead>\n",
       "<tbody>\n",
       "\t<tr><th scope=row>1</th><td>1</td><td>0</td><td>0</td><td>0</td><td>0</td><td>0</td><td>0</td><td>0</td></tr>\n",
       "\t<tr><th scope=row>2</th><td>1</td><td>0</td><td>0</td><td>0</td><td>0</td><td>0</td><td>0</td><td>0</td></tr>\n",
       "\t<tr><th scope=row>3</th><td>1</td><td>0</td><td>0</td><td>0</td><td>0</td><td>0</td><td>0</td><td>0</td></tr>\n",
       "\t<tr><th scope=row>4</th><td>1</td><td>0</td><td>0</td><td>0</td><td>0</td><td>0</td><td>0</td><td>0</td></tr>\n",
       "\t<tr><th scope=row>5</th><td>1</td><td>0</td><td>0</td><td>0</td><td>1</td><td>0</td><td>0</td><td>0</td></tr>\n",
       "\t<tr><th scope=row>6</th><td>1</td><td>0</td><td>0</td><td>0</td><td>1</td><td>0</td><td>0</td><td>0</td></tr>\n",
       "\t<tr><th scope=row>7</th><td>1</td><td>0</td><td>0</td><td>0</td><td>1</td><td>0</td><td>0</td><td>0</td></tr>\n",
       "\t<tr><th scope=row>8</th><td>1</td><td>0</td><td>0</td><td>0</td><td>1</td><td>0</td><td>0</td><td>0</td></tr>\n",
       "\t<tr><th scope=row>9</th><td>1</td><td>1</td><td>0</td><td>0</td><td>0</td><td>0</td><td>0</td><td>0</td></tr>\n",
       "\t<tr><th scope=row>10</th><td>1</td><td>1</td><td>0</td><td>0</td><td>0</td><td>0</td><td>0</td><td>0</td></tr>\n",
       "\t<tr><th scope=row>11</th><td>1</td><td>1</td><td>0</td><td>0</td><td>0</td><td>0</td><td>0</td><td>0</td></tr>\n",
       "\t<tr><th scope=row>12</th><td>1</td><td>1</td><td>0</td><td>0</td><td>0</td><td>0</td><td>0</td><td>0</td></tr>\n",
       "\t<tr><th scope=row>13</th><td>1</td><td>1</td><td>0</td><td>0</td><td>1</td><td>1</td><td>0</td><td>0</td></tr>\n",
       "\t<tr><th scope=row>14</th><td>1</td><td>1</td><td>0</td><td>0</td><td>1</td><td>1</td><td>0</td><td>0</td></tr>\n",
       "\t<tr><th scope=row>15</th><td>1</td><td>1</td><td>0</td><td>0</td><td>1</td><td>1</td><td>0</td><td>0</td></tr>\n",
       "\t<tr><th scope=row>16</th><td>1</td><td>1</td><td>0</td><td>0</td><td>1</td><td>1</td><td>0</td><td>0</td></tr>\n",
       "\t<tr><th scope=row>17</th><td>1</td><td>0</td><td>1</td><td>0</td><td>0</td><td>0</td><td>0</td><td>0</td></tr>\n",
       "\t<tr><th scope=row>18</th><td>1</td><td>0</td><td>1</td><td>0</td><td>0</td><td>0</td><td>0</td><td>0</td></tr>\n",
       "\t<tr><th scope=row>19</th><td>1</td><td>0</td><td>1</td><td>0</td><td>0</td><td>0</td><td>0</td><td>0</td></tr>\n",
       "\t<tr><th scope=row>20</th><td>1</td><td>0</td><td>1</td><td>0</td><td>0</td><td>0</td><td>0</td><td>0</td></tr>\n",
       "\t<tr><th scope=row>21</th><td>1</td><td>0</td><td>1</td><td>0</td><td>1</td><td>0</td><td>1</td><td>0</td></tr>\n",
       "\t<tr><th scope=row>22</th><td>1</td><td>0</td><td>1</td><td>0</td><td>1</td><td>0</td><td>1</td><td>0</td></tr>\n",
       "\t<tr><th scope=row>23</th><td>1</td><td>0</td><td>1</td><td>0</td><td>1</td><td>0</td><td>1</td><td>0</td></tr>\n",
       "\t<tr><th scope=row>24</th><td>1</td><td>0</td><td>1</td><td>0</td><td>1</td><td>0</td><td>1</td><td>0</td></tr>\n",
       "\t<tr><th scope=row>25</th><td>1</td><td>0</td><td>0</td><td>1</td><td>0</td><td>0</td><td>0</td><td>0</td></tr>\n",
       "\t<tr><th scope=row>26</th><td>1</td><td>0</td><td>0</td><td>1</td><td>0</td><td>0</td><td>0</td><td>0</td></tr>\n",
       "\t<tr><th scope=row>27</th><td>1</td><td>0</td><td>0</td><td>1</td><td>0</td><td>0</td><td>0</td><td>0</td></tr>\n",
       "\t<tr><th scope=row>28</th><td>1</td><td>0</td><td>0</td><td>1</td><td>0</td><td>0</td><td>0</td><td>0</td></tr>\n",
       "\t<tr><th scope=row>29</th><td>1</td><td>0</td><td>0</td><td>1</td><td>1</td><td>0</td><td>0</td><td>1</td></tr>\n",
       "\t<tr><th scope=row>30</th><td>1</td><td>0</td><td>0</td><td>1</td><td>1</td><td>0</td><td>0</td><td>1</td></tr>\n",
       "\t<tr><th scope=row>31</th><td>1</td><td>0</td><td>0</td><td>1</td><td>1</td><td>0</td><td>0</td><td>1</td></tr>\n",
       "\t<tr><th scope=row>32</th><td>1</td><td>0</td><td>0</td><td>1</td><td>1</td><td>0</td><td>0</td><td>1</td></tr>\n",
       "</tbody>\n",
       "</table>\n"
      ],
      "text/latex": [
       "A matrix: 32 × 8 of type dbl\n",
       "\\begin{tabular}{r|llllllll}\n",
       "  & (Intercept) & brandB & brandC & brandD & clubIRON & brandB:clubIRON & brandC:clubIRON & brandD:clubIRON\\\\\n",
       "\\hline\n",
       "\t1 & 1 & 0 & 0 & 0 & 0 & 0 & 0 & 0\\\\\n",
       "\t2 & 1 & 0 & 0 & 0 & 0 & 0 & 0 & 0\\\\\n",
       "\t3 & 1 & 0 & 0 & 0 & 0 & 0 & 0 & 0\\\\\n",
       "\t4 & 1 & 0 & 0 & 0 & 0 & 0 & 0 & 0\\\\\n",
       "\t5 & 1 & 0 & 0 & 0 & 1 & 0 & 0 & 0\\\\\n",
       "\t6 & 1 & 0 & 0 & 0 & 1 & 0 & 0 & 0\\\\\n",
       "\t7 & 1 & 0 & 0 & 0 & 1 & 0 & 0 & 0\\\\\n",
       "\t8 & 1 & 0 & 0 & 0 & 1 & 0 & 0 & 0\\\\\n",
       "\t9 & 1 & 1 & 0 & 0 & 0 & 0 & 0 & 0\\\\\n",
       "\t10 & 1 & 1 & 0 & 0 & 0 & 0 & 0 & 0\\\\\n",
       "\t11 & 1 & 1 & 0 & 0 & 0 & 0 & 0 & 0\\\\\n",
       "\t12 & 1 & 1 & 0 & 0 & 0 & 0 & 0 & 0\\\\\n",
       "\t13 & 1 & 1 & 0 & 0 & 1 & 1 & 0 & 0\\\\\n",
       "\t14 & 1 & 1 & 0 & 0 & 1 & 1 & 0 & 0\\\\\n",
       "\t15 & 1 & 1 & 0 & 0 & 1 & 1 & 0 & 0\\\\\n",
       "\t16 & 1 & 1 & 0 & 0 & 1 & 1 & 0 & 0\\\\\n",
       "\t17 & 1 & 0 & 1 & 0 & 0 & 0 & 0 & 0\\\\\n",
       "\t18 & 1 & 0 & 1 & 0 & 0 & 0 & 0 & 0\\\\\n",
       "\t19 & 1 & 0 & 1 & 0 & 0 & 0 & 0 & 0\\\\\n",
       "\t20 & 1 & 0 & 1 & 0 & 0 & 0 & 0 & 0\\\\\n",
       "\t21 & 1 & 0 & 1 & 0 & 1 & 0 & 1 & 0\\\\\n",
       "\t22 & 1 & 0 & 1 & 0 & 1 & 0 & 1 & 0\\\\\n",
       "\t23 & 1 & 0 & 1 & 0 & 1 & 0 & 1 & 0\\\\\n",
       "\t24 & 1 & 0 & 1 & 0 & 1 & 0 & 1 & 0\\\\\n",
       "\t25 & 1 & 0 & 0 & 1 & 0 & 0 & 0 & 0\\\\\n",
       "\t26 & 1 & 0 & 0 & 1 & 0 & 0 & 0 & 0\\\\\n",
       "\t27 & 1 & 0 & 0 & 1 & 0 & 0 & 0 & 0\\\\\n",
       "\t28 & 1 & 0 & 0 & 1 & 0 & 0 & 0 & 0\\\\\n",
       "\t29 & 1 & 0 & 0 & 1 & 1 & 0 & 0 & 1\\\\\n",
       "\t30 & 1 & 0 & 0 & 1 & 1 & 0 & 0 & 1\\\\\n",
       "\t31 & 1 & 0 & 0 & 1 & 1 & 0 & 0 & 1\\\\\n",
       "\t32 & 1 & 0 & 0 & 1 & 1 & 0 & 0 & 1\\\\\n",
       "\\end{tabular}\n"
      ],
      "text/markdown": [
       "\n",
       "A matrix: 32 × 8 of type dbl\n",
       "\n",
       "| <!--/--> | (Intercept) | brandB | brandC | brandD | clubIRON | brandB:clubIRON | brandC:clubIRON | brandD:clubIRON |\n",
       "|---|---|---|---|---|---|---|---|---|\n",
       "| 1 | 1 | 0 | 0 | 0 | 0 | 0 | 0 | 0 |\n",
       "| 2 | 1 | 0 | 0 | 0 | 0 | 0 | 0 | 0 |\n",
       "| 3 | 1 | 0 | 0 | 0 | 0 | 0 | 0 | 0 |\n",
       "| 4 | 1 | 0 | 0 | 0 | 0 | 0 | 0 | 0 |\n",
       "| 5 | 1 | 0 | 0 | 0 | 1 | 0 | 0 | 0 |\n",
       "| 6 | 1 | 0 | 0 | 0 | 1 | 0 | 0 | 0 |\n",
       "| 7 | 1 | 0 | 0 | 0 | 1 | 0 | 0 | 0 |\n",
       "| 8 | 1 | 0 | 0 | 0 | 1 | 0 | 0 | 0 |\n",
       "| 9 | 1 | 1 | 0 | 0 | 0 | 0 | 0 | 0 |\n",
       "| 10 | 1 | 1 | 0 | 0 | 0 | 0 | 0 | 0 |\n",
       "| 11 | 1 | 1 | 0 | 0 | 0 | 0 | 0 | 0 |\n",
       "| 12 | 1 | 1 | 0 | 0 | 0 | 0 | 0 | 0 |\n",
       "| 13 | 1 | 1 | 0 | 0 | 1 | 1 | 0 | 0 |\n",
       "| 14 | 1 | 1 | 0 | 0 | 1 | 1 | 0 | 0 |\n",
       "| 15 | 1 | 1 | 0 | 0 | 1 | 1 | 0 | 0 |\n",
       "| 16 | 1 | 1 | 0 | 0 | 1 | 1 | 0 | 0 |\n",
       "| 17 | 1 | 0 | 1 | 0 | 0 | 0 | 0 | 0 |\n",
       "| 18 | 1 | 0 | 1 | 0 | 0 | 0 | 0 | 0 |\n",
       "| 19 | 1 | 0 | 1 | 0 | 0 | 0 | 0 | 0 |\n",
       "| 20 | 1 | 0 | 1 | 0 | 0 | 0 | 0 | 0 |\n",
       "| 21 | 1 | 0 | 1 | 0 | 1 | 0 | 1 | 0 |\n",
       "| 22 | 1 | 0 | 1 | 0 | 1 | 0 | 1 | 0 |\n",
       "| 23 | 1 | 0 | 1 | 0 | 1 | 0 | 1 | 0 |\n",
       "| 24 | 1 | 0 | 1 | 0 | 1 | 0 | 1 | 0 |\n",
       "| 25 | 1 | 0 | 0 | 1 | 0 | 0 | 0 | 0 |\n",
       "| 26 | 1 | 0 | 0 | 1 | 0 | 0 | 0 | 0 |\n",
       "| 27 | 1 | 0 | 0 | 1 | 0 | 0 | 0 | 0 |\n",
       "| 28 | 1 | 0 | 0 | 1 | 0 | 0 | 0 | 0 |\n",
       "| 29 | 1 | 0 | 0 | 1 | 1 | 0 | 0 | 1 |\n",
       "| 30 | 1 | 0 | 0 | 1 | 1 | 0 | 0 | 1 |\n",
       "| 31 | 1 | 0 | 0 | 1 | 1 | 0 | 0 | 1 |\n",
       "| 32 | 1 | 0 | 0 | 1 | 1 | 0 | 0 | 1 |\n",
       "\n"
      ],
      "text/plain": [
       "   (Intercept) brandB brandC brandD clubIRON brandB:clubIRON brandC:clubIRON\n",
       "1  1           0      0      0      0        0               0              \n",
       "2  1           0      0      0      0        0               0              \n",
       "3  1           0      0      0      0        0               0              \n",
       "4  1           0      0      0      0        0               0              \n",
       "5  1           0      0      0      1        0               0              \n",
       "6  1           0      0      0      1        0               0              \n",
       "7  1           0      0      0      1        0               0              \n",
       "8  1           0      0      0      1        0               0              \n",
       "9  1           1      0      0      0        0               0              \n",
       "10 1           1      0      0      0        0               0              \n",
       "11 1           1      0      0      0        0               0              \n",
       "12 1           1      0      0      0        0               0              \n",
       "13 1           1      0      0      1        1               0              \n",
       "14 1           1      0      0      1        1               0              \n",
       "15 1           1      0      0      1        1               0              \n",
       "16 1           1      0      0      1        1               0              \n",
       "17 1           0      1      0      0        0               0              \n",
       "18 1           0      1      0      0        0               0              \n",
       "19 1           0      1      0      0        0               0              \n",
       "20 1           0      1      0      0        0               0              \n",
       "21 1           0      1      0      1        0               1              \n",
       "22 1           0      1      0      1        0               1              \n",
       "23 1           0      1      0      1        0               1              \n",
       "24 1           0      1      0      1        0               1              \n",
       "25 1           0      0      1      0        0               0              \n",
       "26 1           0      0      1      0        0               0              \n",
       "27 1           0      0      1      0        0               0              \n",
       "28 1           0      0      1      0        0               0              \n",
       "29 1           0      0      1      1        0               0              \n",
       "30 1           0      0      1      1        0               0              \n",
       "31 1           0      0      1      1        0               0              \n",
       "32 1           0      0      1      1        0               0              \n",
       "   brandD:clubIRON\n",
       "1  0              \n",
       "2  0              \n",
       "3  0              \n",
       "4  0              \n",
       "5  0              \n",
       "6  0              \n",
       "7  0              \n",
       "8  0              \n",
       "9  0              \n",
       "10 0              \n",
       "11 0              \n",
       "12 0              \n",
       "13 0              \n",
       "14 0              \n",
       "15 0              \n",
       "16 0              \n",
       "17 0              \n",
       "18 0              \n",
       "19 0              \n",
       "20 0              \n",
       "21 0              \n",
       "22 0              \n",
       "23 0              \n",
       "24 0              \n",
       "25 0              \n",
       "26 0              \n",
       "27 0              \n",
       "28 0              \n",
       "29 1              \n",
       "30 1              \n",
       "31 1              \n",
       "32 1              "
      ]
     },
     "metadata": {},
     "output_type": "display_data"
    }
   ],
   "source": [
    "model.matrix(large)"
   ]
  },
  {
   "cell_type": "code",
   "execution_count": 16,
   "id": "1a803ced-8545-40ae-932c-8a9ec8a0fb5f",
   "metadata": {},
   "outputs": [
    {
     "data": {
      "text/html": [
       "<table class=\"dataframe\">\n",
       "<caption>A anova: 4 × 5</caption>\n",
       "<thead>\n",
       "\t<tr><th></th><th scope=col>Df</th><th scope=col>Sum Sq</th><th scope=col>Mean Sq</th><th scope=col>F value</th><th scope=col>Pr(&gt;F)</th></tr>\n",
       "\t<tr><th></th><th scope=col>&lt;int&gt;</th><th scope=col>&lt;dbl&gt;</th><th scope=col>&lt;dbl&gt;</th><th scope=col>&lt;dbl&gt;</th><th scope=col>&lt;dbl&gt;</th></tr>\n",
       "</thead>\n",
       "<tbody>\n",
       "\t<tr><th scope=row>brand</th><td> 3</td><td>  800.7362</td><td>  266.9121</td><td>  7.790779</td><td>8.401335e-04</td></tr>\n",
       "\t<tr><th scope=row>club</th><td> 1</td><td>32093.1112</td><td>32093.1112</td><td>936.751642</td><td>9.628962e-21</td></tr>\n",
       "\t<tr><th scope=row>brand:club</th><td> 3</td><td>  765.9613</td><td>  255.3204</td><td>  7.452435</td><td>1.078923e-03</td></tr>\n",
       "\t<tr><th scope=row>Residuals</th><td>24</td><td>  822.2400</td><td>   34.2600</td><td>        NA</td><td>          NA</td></tr>\n",
       "</tbody>\n",
       "</table>\n"
      ],
      "text/latex": [
       "A anova: 4 × 5\n",
       "\\begin{tabular}{r|lllll}\n",
       "  & Df & Sum Sq & Mean Sq & F value & Pr(>F)\\\\\n",
       "  & <int> & <dbl> & <dbl> & <dbl> & <dbl>\\\\\n",
       "\\hline\n",
       "\tbrand &  3 &   800.7362 &   266.9121 &   7.790779 & 8.401335e-04\\\\\n",
       "\tclub &  1 & 32093.1112 & 32093.1112 & 936.751642 & 9.628962e-21\\\\\n",
       "\tbrand:club &  3 &   765.9613 &   255.3204 &   7.452435 & 1.078923e-03\\\\\n",
       "\tResiduals & 24 &   822.2400 &    34.2600 &         NA &           NA\\\\\n",
       "\\end{tabular}\n"
      ],
      "text/markdown": [
       "\n",
       "A anova: 4 × 5\n",
       "\n",
       "| <!--/--> | Df &lt;int&gt; | Sum Sq &lt;dbl&gt; | Mean Sq &lt;dbl&gt; | F value &lt;dbl&gt; | Pr(&gt;F) &lt;dbl&gt; |\n",
       "|---|---|---|---|---|---|\n",
       "| brand |  3 |   800.7362 |   266.9121 |   7.790779 | 8.401335e-04 |\n",
       "| club |  1 | 32093.1112 | 32093.1112 | 936.751642 | 9.628962e-21 |\n",
       "| brand:club |  3 |   765.9613 |   255.3204 |   7.452435 | 1.078923e-03 |\n",
       "| Residuals | 24 |   822.2400 |    34.2600 |         NA |           NA |\n",
       "\n"
      ],
      "text/plain": [
       "           Df Sum Sq     Mean Sq    F value    Pr(>F)      \n",
       "brand       3   800.7362   266.9121   7.790779 8.401335e-04\n",
       "club        1 32093.1112 32093.1112 936.751642 9.628962e-21\n",
       "brand:club  3   765.9613   255.3204   7.452435 1.078923e-03\n",
       "Residuals  24   822.2400    34.2600         NA           NA"
      ]
     },
     "metadata": {},
     "output_type": "display_data"
    }
   ],
   "source": [
    "anova(large)"
   ]
  },
  {
   "cell_type": "markdown",
   "id": "ab1a2ae5-bcd6-4dba-9166-b1f751fedae4",
   "metadata": {},
   "source": [
    "With the last *anova()* command we have build a more traditional anova table. We can compare the two\n",
    "models also with the anova command."
   ]
  },
  {
   "cell_type": "code",
   "execution_count": 17,
   "id": "ea80d43e-9038-4a12-800d-db8065de729c",
   "metadata": {},
   "outputs": [
    {
     "data": {
      "text/html": [
       "<table class=\"dataframe\">\n",
       "<caption>A anova: 2 × 6</caption>\n",
       "<thead>\n",
       "\t<tr><th></th><th scope=col>Res.Df</th><th scope=col>RSS</th><th scope=col>Df</th><th scope=col>Sum of Sq</th><th scope=col>F</th><th scope=col>Pr(&gt;F)</th></tr>\n",
       "\t<tr><th></th><th scope=col>&lt;dbl&gt;</th><th scope=col>&lt;dbl&gt;</th><th scope=col>&lt;dbl&gt;</th><th scope=col>&lt;dbl&gt;</th><th scope=col>&lt;dbl&gt;</th><th scope=col>&lt;dbl&gt;</th></tr>\n",
       "</thead>\n",
       "<tbody>\n",
       "\t<tr><th scope=row>1</th><td>27</td><td>1588.201</td><td>NA</td><td>      NA</td><td>      NA</td><td>         NA</td></tr>\n",
       "\t<tr><th scope=row>2</th><td>24</td><td> 822.240</td><td> 3</td><td>765.9613</td><td>7.452435</td><td>0.001078923</td></tr>\n",
       "</tbody>\n",
       "</table>\n"
      ],
      "text/latex": [
       "A anova: 2 × 6\n",
       "\\begin{tabular}{r|llllll}\n",
       "  & Res.Df & RSS & Df & Sum of Sq & F & Pr(>F)\\\\\n",
       "  & <dbl> & <dbl> & <dbl> & <dbl> & <dbl> & <dbl>\\\\\n",
       "\\hline\n",
       "\t1 & 27 & 1588.201 & NA &       NA &       NA &          NA\\\\\n",
       "\t2 & 24 &  822.240 &  3 & 765.9613 & 7.452435 & 0.001078923\\\\\n",
       "\\end{tabular}\n"
      ],
      "text/markdown": [
       "\n",
       "A anova: 2 × 6\n",
       "\n",
       "| <!--/--> | Res.Df &lt;dbl&gt; | RSS &lt;dbl&gt; | Df &lt;dbl&gt; | Sum of Sq &lt;dbl&gt; | F &lt;dbl&gt; | Pr(&gt;F) &lt;dbl&gt; |\n",
       "|---|---|---|---|---|---|---|\n",
       "| 1 | 27 | 1588.201 | NA |       NA |       NA |          NA |\n",
       "| 2 | 24 |  822.240 |  3 | 765.9613 | 7.452435 | 0.001078923 |\n",
       "\n"
      ],
      "text/plain": [
       "  Res.Df RSS      Df Sum of Sq F        Pr(>F)     \n",
       "1 27     1588.201 NA       NA        NA          NA\n",
       "2 24      822.240  3 765.9613  7.452435 0.001078923"
      ]
     },
     "metadata": {},
     "output_type": "display_data"
    }
   ],
   "source": [
    "anova(small, large)"
   ]
  },
  {
   "cell_type": "markdown",
   "id": "79bec4a4-bfcf-4771-a305-4b2c352ae848",
   "metadata": {},
   "source": [
    "Interactions are significant, meaning each combination of the two factors tells a diﬀerent story."
   ]
  },
  {
   "cell_type": "code",
   "execution_count": 18,
   "id": "6d049f66-b8b9-41bf-874d-d9bcee4f87c8",
   "metadata": {},
   "outputs": [
    {
     "data": {
      "text/html": [
       "<style>\n",
       ".dl-inline {width: auto; margin:0; padding: 0}\n",
       ".dl-inline>dt, .dl-inline>dd {float: none; width: auto; display: inline-block}\n",
       ".dl-inline>dt::after {content: \":\\0020\"; padding-right: .5ex}\n",
       ".dl-inline>dt:not(:first-of-type) {padding-left: .5ex}\n",
       "</style><dl class=dl-inline><dt>1</dt><dd>228.425</dd><dt>2</dt><dd>228.425</dd><dt>3</dt><dd>228.425</dd><dt>4</dt><dd>228.425</dd><dt>5</dt><dd>171.3</dd><dt>6</dt><dd>171.3</dd><dt>7</dt><dd>171.3</dd><dt>8</dt><dd>171.3</dd><dt>9</dt><dd>233.725</dd><dt>10</dt><dd>233.725</dd><dt>11</dt><dd>233.725</dd><dt>12</dt><dd>233.725</dd><dt>13</dt><dd>182.675</dd><dt>14</dt><dd>182.675</dd><dt>15</dt><dd>182.675</dd><dt>16</dt><dd>182.675</dd><dt>17</dt><dd>243.1</dd><dt>18</dt><dd>243.1</dd><dt>19</dt><dd>243.1</dd><dt>20</dt><dd>243.1</dd><dt>21</dt><dd>167.175</dd><dt>22</dt><dd>167.175</dd><dt>23</dt><dd>167.175</dd><dt>24</dt><dd>167.175</dd><dt>25</dt><dd>229.75</dd><dt>26</dt><dd>229.75</dd><dt>27</dt><dd>229.75</dd><dt>28</dt><dd>229.75</dd><dt>29</dt><dd>160.5</dd><dt>30</dt><dd>160.5</dd><dt>31</dt><dd>160.5</dd><dt>32</dt><dd>160.5</dd></dl>\n"
      ],
      "text/latex": [
       "\\begin{description*}\n",
       "\\item[1] 228.425\n",
       "\\item[2] 228.425\n",
       "\\item[3] 228.425\n",
       "\\item[4] 228.425\n",
       "\\item[5] 171.3\n",
       "\\item[6] 171.3\n",
       "\\item[7] 171.3\n",
       "\\item[8] 171.3\n",
       "\\item[9] 233.725\n",
       "\\item[10] 233.725\n",
       "\\item[11] 233.725\n",
       "\\item[12] 233.725\n",
       "\\item[13] 182.675\n",
       "\\item[14] 182.675\n",
       "\\item[15] 182.675\n",
       "\\item[16] 182.675\n",
       "\\item[17] 243.1\n",
       "\\item[18] 243.1\n",
       "\\item[19] 243.1\n",
       "\\item[20] 243.1\n",
       "\\item[21] 167.175\n",
       "\\item[22] 167.175\n",
       "\\item[23] 167.175\n",
       "\\item[24] 167.175\n",
       "\\item[25] 229.75\n",
       "\\item[26] 229.75\n",
       "\\item[27] 229.75\n",
       "\\item[28] 229.75\n",
       "\\item[29] 160.5\n",
       "\\item[30] 160.5\n",
       "\\item[31] 160.5\n",
       "\\item[32] 160.5\n",
       "\\end{description*}\n"
      ],
      "text/markdown": [
       "1\n",
       ":   228.4252\n",
       ":   228.4253\n",
       ":   228.4254\n",
       ":   228.4255\n",
       ":   171.36\n",
       ":   171.37\n",
       ":   171.38\n",
       ":   171.39\n",
       ":   233.72510\n",
       ":   233.72511\n",
       ":   233.72512\n",
       ":   233.72513\n",
       ":   182.67514\n",
       ":   182.67515\n",
       ":   182.67516\n",
       ":   182.67517\n",
       ":   243.118\n",
       ":   243.119\n",
       ":   243.120\n",
       ":   243.121\n",
       ":   167.17522\n",
       ":   167.17523\n",
       ":   167.17524\n",
       ":   167.17525\n",
       ":   229.7526\n",
       ":   229.7527\n",
       ":   229.7528\n",
       ":   229.7529\n",
       ":   160.530\n",
       ":   160.531\n",
       ":   160.532\n",
       ":   160.5\n",
       "\n"
      ],
      "text/plain": [
       "      1       2       3       4       5       6       7       8       9      10 \n",
       "228.425 228.425 228.425 228.425 171.300 171.300 171.300 171.300 233.725 233.725 \n",
       "     11      12      13      14      15      16      17      18      19      20 \n",
       "233.725 233.725 182.675 182.675 182.675 182.675 243.100 243.100 243.100 243.100 \n",
       "     21      22      23      24      25      26      27      28      29      30 \n",
       "167.175 167.175 167.175 167.175 229.750 229.750 229.750 229.750 160.500 160.500 \n",
       "     31      32 \n",
       "160.500 160.500 "
      ]
     },
     "metadata": {},
     "output_type": "display_data"
    }
   ],
   "source": [
    "fitted(large)"
   ]
  },
  {
   "cell_type": "markdown",
   "id": "67ff5a8d-4e36-48a6-80fe-f906f61356f2",
   "metadata": {},
   "source": [
    "## Fitted and predicted value, with confidence and prediction intervals\n",
    "The following code is an application of the concepts of fitted values, confidence intervals, predictive intervals."
   ]
  },
  {
   "cell_type": "code",
   "execution_count": 20,
   "id": "1761e9de-9cc5-4214-9711-283f7c63ea92",
   "metadata": {},
   "outputs": [
    {
     "data": {
      "text/html": [
       "<strong>1:</strong> 228.425"
      ],
      "text/latex": [
       "\\textbf{1:} 228.425"
      ],
      "text/markdown": [
       "**1:** 228.425"
      ],
      "text/plain": [
       "      1 \n",
       "228.425 "
      ]
     },
     "metadata": {},
     "output_type": "display_data"
    }
   ],
   "source": [
    "predict.lm(large, newdata=data.frame(brand=\"A\",club=\"DRIVER\"))"
   ]
  },
  {
   "cell_type": "code",
   "execution_count": 21,
   "id": "ad6efec8-6f0b-4451-8382-76d2deed4dec",
   "metadata": {},
   "outputs": [
    {
     "data": {
      "text/html": [
       "<table class=\"dataframe\">\n",
       "<caption>A matrix: 1 × 3 of type dbl</caption>\n",
       "<thead>\n",
       "\t<tr><th></th><th scope=col>fit</th><th scope=col>lwr</th><th scope=col>upr</th></tr>\n",
       "</thead>\n",
       "<tbody>\n",
       "\t<tr><th scope=row>1</th><td>228.425</td><td>220.2395</td><td>236.6105</td></tr>\n",
       "</tbody>\n",
       "</table>\n"
      ],
      "text/latex": [
       "A matrix: 1 × 3 of type dbl\n",
       "\\begin{tabular}{r|lll}\n",
       "  & fit & lwr & upr\\\\\n",
       "\\hline\n",
       "\t1 & 228.425 & 220.2395 & 236.6105\\\\\n",
       "\\end{tabular}\n"
      ],
      "text/markdown": [
       "\n",
       "A matrix: 1 × 3 of type dbl\n",
       "\n",
       "| <!--/--> | fit | lwr | upr |\n",
       "|---|---|---|---|\n",
       "| 1 | 228.425 | 220.2395 | 236.6105 |\n",
       "\n"
      ],
      "text/plain": [
       "  fit     lwr      upr     \n",
       "1 228.425 220.2395 236.6105"
      ]
     },
     "metadata": {},
     "output_type": "display_data"
    }
   ],
   "source": [
    "predict.lm(large, newdata=data.frame(brand=\"A\",club=\"DRIVER\"),\n",
    "interval=\"confidence\",\n",
    "level=.99)"
   ]
  },
  {
   "cell_type": "code",
   "execution_count": 22,
   "id": "07bc43d5-7bbc-49da-8309-b38105201df2",
   "metadata": {},
   "outputs": [
    {
     "data": {
      "text/html": [
       "<table class=\"dataframe\">\n",
       "<caption>A matrix: 1 × 3 of type dbl</caption>\n",
       "<thead>\n",
       "\t<tr><th></th><th scope=col>fit</th><th scope=col>lwr</th><th scope=col>upr</th></tr>\n",
       "</thead>\n",
       "<tbody>\n",
       "\t<tr><th scope=row>1</th><td>228.425</td><td>210.1216</td><td>246.7284</td></tr>\n",
       "</tbody>\n",
       "</table>\n"
      ],
      "text/latex": [
       "A matrix: 1 × 3 of type dbl\n",
       "\\begin{tabular}{r|lll}\n",
       "  & fit & lwr & upr\\\\\n",
       "\\hline\n",
       "\t1 & 228.425 & 210.1216 & 246.7284\\\\\n",
       "\\end{tabular}\n"
      ],
      "text/markdown": [
       "\n",
       "A matrix: 1 × 3 of type dbl\n",
       "\n",
       "| <!--/--> | fit | lwr | upr |\n",
       "|---|---|---|---|\n",
       "| 1 | 228.425 | 210.1216 | 246.7284 |\n",
       "\n"
      ],
      "text/plain": [
       "  fit     lwr      upr     \n",
       "1 228.425 210.1216 246.7284"
      ]
     },
     "metadata": {},
     "output_type": "display_data"
    }
   ],
   "source": [
    "predict.lm(large, newdata=data.frame(brand=\"A\",club=\"DRIVER\"),\n",
    "interval=\"prediction\",\n",
    "level=.99)"
   ]
  },
  {
   "cell_type": "code",
   "execution_count": null,
   "id": "defa98e2-6b84-43d2-826d-388bac56abc5",
   "metadata": {},
   "outputs": [],
   "source": [
    "detach(golflong)"
   ]
  }
 ],
 "metadata": {
  "kernelspec": {
   "display_name": "R",
   "language": "R",
   "name": "ir"
  },
  "language_info": {
   "codemirror_mode": "r",
   "file_extension": ".r",
   "mimetype": "text/x-r-source",
   "name": "R",
   "pygments_lexer": "r",
   "version": "4.4.3"
  }
 },
 "nbformat": 4,
 "nbformat_minor": 5
}
